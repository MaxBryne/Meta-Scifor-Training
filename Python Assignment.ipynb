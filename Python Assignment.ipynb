{
 "cells": [
  {
   "cell_type": "markdown",
   "id": "5fb1932a",
   "metadata": {},
   "source": [
    "**1. Write a Python program to print 'Hello, World!'**"
   ]
  },
  {
   "cell_type": "code",
   "execution_count": 1,
   "id": "854a10a7",
   "metadata": {},
   "outputs": [
    {
     "name": "stdout",
     "output_type": "stream",
     "text": [
      "Hello, World!\n"
     ]
    }
   ],
   "source": [
    "print('Hello, World!')"
   ]
  },
  {
   "cell_type": "markdown",
   "id": "926d4223",
   "metadata": {},
   "source": [
    "**2. Write a Python program to add two numbers.**"
   ]
  },
  {
   "cell_type": "code",
   "execution_count": 2,
   "id": "feb81078",
   "metadata": {},
   "outputs": [
    {
     "name": "stdout",
     "output_type": "stream",
     "text": [
      "12\n"
     ]
    }
   ],
   "source": [
    "a = 5\n",
    "b = 7\n",
    "print(a+b)"
   ]
  },
  {
   "cell_type": "markdown",
   "id": "ead00311",
   "metadata": {},
   "source": [
    "**3. Write a Python program to find the square root of a number.**"
   ]
  },
  {
   "cell_type": "code",
   "execution_count": 3,
   "id": "ecb2e8ca",
   "metadata": {},
   "outputs": [
    {
     "name": "stdout",
     "output_type": "stream",
     "text": [
      "4.0\n"
     ]
    }
   ],
   "source": [
    "import math\n",
    "a = 16\n",
    "print(math.sqrt(a))"
   ]
  },
  {
   "cell_type": "markdown",
   "id": "328874dd",
   "metadata": {},
   "source": [
    "**4. Write a Python program to calculate the area of a triangle.**"
   ]
  },
  {
   "cell_type": "code",
   "execution_count": 4,
   "id": "a2bcdf41",
   "metadata": {},
   "outputs": [
    {
     "name": "stdout",
     "output_type": "stream",
     "text": [
      "Area:  16.24807680927192\n"
     ]
    }
   ],
   "source": [
    "import math\n",
    "a = 5\n",
    "b = 10\n",
    "c = 7\n",
    "\n",
    "s = (a+b+c)/2\n",
    "\n",
    "area = math.sqrt(s*(s-a)*(s-b)*(s-c))\n",
    "\n",
    "print(\"Area: \",area)"
   ]
  },
  {
   "cell_type": "markdown",
   "id": "163be0c0",
   "metadata": {},
   "source": [
    "**5. Write a Python program to swap two variables**"
   ]
  },
  {
   "cell_type": "code",
   "execution_count": 5,
   "id": "37aaad6b",
   "metadata": {},
   "outputs": [
    {
     "name": "stdout",
     "output_type": "stream",
     "text": [
      "(7, 5)\n"
     ]
    }
   ],
   "source": [
    "def swap(a,b):\n",
    "    c = a\n",
    "    a = b\n",
    "    b = c\n",
    "    return a,b\n",
    "\n",
    "a = 5\n",
    "b = 7\n",
    "print(swap(a,b))"
   ]
  },
  {
   "cell_type": "markdown",
   "id": "d7fd436f",
   "metadata": {},
   "source": [
    "**6. Write a Python program to generate a random number.**"
   ]
  },
  {
   "cell_type": "code",
   "execution_count": 6,
   "id": "d43f16f0",
   "metadata": {},
   "outputs": [
    {
     "name": "stdout",
     "output_type": "stream",
     "text": [
      "8\n"
     ]
    }
   ],
   "source": [
    "import random\n",
    "a = random.randint(1,10)\n",
    "print(a)"
   ]
  },
  {
   "cell_type": "markdown",
   "id": "06863708",
   "metadata": {},
   "source": [
    "**7. Write a Python program to convert kilometers to miles.**"
   ]
  },
  {
   "cell_type": "code",
   "execution_count": 7,
   "id": "2ce8a1cc",
   "metadata": {},
   "outputs": [
    {
     "name": "stdout",
     "output_type": "stream",
     "text": [
      "Enter kilometers: 5\n",
      "Miles:  3.105\n"
     ]
    }
   ],
   "source": [
    "km = float(input(\"Enter kilometers: \"))\n",
    "miles = 0.621*km\n",
    "print(\"Miles: \",miles)"
   ]
  },
  {
   "cell_type": "markdown",
   "id": "37b0df28",
   "metadata": {},
   "source": [
    "**8. Write a Python program to check if a number is positive, negative or zero.**"
   ]
  },
  {
   "cell_type": "code",
   "execution_count": 8,
   "id": "721331f0",
   "metadata": {},
   "outputs": [
    {
     "name": "stdout",
     "output_type": "stream",
     "text": [
      "Enter a number: -6\n",
      "Negative\n"
     ]
    }
   ],
   "source": [
    "x = int(input(\"Enter a number: \"))\n",
    "if x>0:\n",
    "    print(\"Positive\")\n",
    "elif x==0:\n",
    "    print(\"Zero\")\n",
    "elif x<0:\n",
    "    print(\"Negative\")"
   ]
  },
  {
   "cell_type": "markdown",
   "id": "ace91891",
   "metadata": {},
   "source": [
    "**9. Write a Python program to check if a number is odd or even.**"
   ]
  },
  {
   "cell_type": "code",
   "execution_count": 9,
   "id": "efdf16ee",
   "metadata": {},
   "outputs": [
    {
     "name": "stdout",
     "output_type": "stream",
     "text": [
      "Enter a number: 57\n",
      "Odd\n"
     ]
    }
   ],
   "source": [
    "x = int(input(\"Enter a number: \"))\n",
    "if x%2 == 0:\n",
    "    print(\"Even\")\n",
    "else:\n",
    "    print(\"Odd\")"
   ]
  },
  {
   "cell_type": "markdown",
   "id": "af58d74d",
   "metadata": {},
   "source": [
    "**10. Write a Python program to check if a year is a leap year**"
   ]
  },
  {
   "cell_type": "code",
   "execution_count": 10,
   "id": "4d360320",
   "metadata": {},
   "outputs": [
    {
     "name": "stdout",
     "output_type": "stream",
     "text": [
      "Enter a year: 2000\n",
      "2000 is a leap year\n"
     ]
    }
   ],
   "source": [
    "y = int(input(\"Enter a year: \"))\n",
    "if y%4==0 and y%100!=0 or y%400==0:\n",
    "    print(y,\"is a leap year\")\n",
    "else:\n",
    "     print(y,\"is not a leap year\")"
   ]
  },
  {
   "cell_type": "markdown",
   "id": "30a992d1",
   "metadata": {},
   "source": [
    "**11. Write a Python program to find the largest of three numbers.**"
   ]
  },
  {
   "cell_type": "code",
   "execution_count": 13,
   "id": "2fba0a23",
   "metadata": {},
   "outputs": [
    {
     "name": "stdout",
     "output_type": "stream",
     "text": [
      "Enter a number: 5\n",
      "Enter a number: 89\n",
      "Enter a number: 28\n",
      "Max:  89\n"
     ]
    }
   ],
   "source": [
    "a = int(input(\"Enter a number: \"))\n",
    "b = int(input(\"Enter a number: \"))\n",
    "c = int(input(\"Enter a number: \"))\n",
    "\n",
    "l = [a,b,c]\n",
    "m = 0\n",
    "for i in l:\n",
    "    if i>m:\n",
    "        m=i\n",
    "print(\"Max: \",m)"
   ]
  },
  {
   "cell_type": "markdown",
   "id": "5eb569d8",
   "metadata": {},
   "source": [
    "**12. Write a Python program to find the factorial of a number.**"
   ]
  },
  {
   "cell_type": "code",
   "execution_count": 16,
   "id": "b2cf77d9",
   "metadata": {},
   "outputs": [
    {
     "name": "stdout",
     "output_type": "stream",
     "text": [
      "Enter a number: 5\n",
      "120\n"
     ]
    }
   ],
   "source": [
    "import math\n",
    "a = int(input(\"Enter a number: \"))\n",
    "print(math.factorial(a))"
   ]
  },
  {
   "cell_type": "code",
   "execution_count": 19,
   "id": "2d26011c",
   "metadata": {},
   "outputs": [
    {
     "name": "stdout",
     "output_type": "stream",
     "text": [
      "120\n",
      "120\n"
     ]
    }
   ],
   "source": [
    "#Alternate method:\n",
    "\n",
    "def fact_iter(n):\n",
    "    f = 1\n",
    "    for i in range(1,n+1):\n",
    "        f = f*i\n",
    "    return f\n",
    "\n",
    "def fact_rec(n):\n",
    "    if n==0 or n==1:\n",
    "        return 1\n",
    "    else:\n",
    "        return n*fact(n-1)\n",
    "    \n",
    "print(fact_iter(5))\n",
    "print(fact_rec(5))"
   ]
  },
  {
   "cell_type": "markdown",
   "id": "d6430bfb",
   "metadata": {},
   "source": [
    "**13. Write a Python program to display the multiplication table.**"
   ]
  },
  {
   "cell_type": "code",
   "execution_count": 20,
   "id": "7f6221ce",
   "metadata": {},
   "outputs": [
    {
     "name": "stdout",
     "output_type": "stream",
     "text": [
      "Enter a number: 5\n",
      "5 x 1 = 5\n",
      "5 x 2 = 10\n",
      "5 x 3 = 15\n",
      "5 x 4 = 20\n",
      "5 x 5 = 25\n",
      "5 x 6 = 30\n",
      "5 x 7 = 35\n",
      "5 x 8 = 40\n",
      "5 x 9 = 45\n"
     ]
    }
   ],
   "source": [
    "a = int(input(\"Enter a number: \"))\n",
    "\n",
    "for i in range(1,10):\n",
    "    print(f\"{a} x {i} = {a*i}\")"
   ]
  },
  {
   "cell_type": "markdown",
   "id": "45c8479a",
   "metadata": {},
   "source": [
    "**14. Write a Python program to print the Fibonacci sequence.**"
   ]
  },
  {
   "cell_type": "code",
   "execution_count": 23,
   "id": "a7e4ecc6",
   "metadata": {},
   "outputs": [
    {
     "name": "stdout",
     "output_type": "stream",
     "text": [
      "Enter a range: 10\n",
      "0 1 1 2 3 5 8 13 21 34 "
     ]
    }
   ],
   "source": [
    "n = int(input(\"Enter a range: \"))\n",
    "a = 0\n",
    "b = 1\n",
    "print(a,b,end = \" \")\n",
    "for i in range(2,n):\n",
    "    c = a+b\n",
    "    print(c,end = \" \")\n",
    "    a = b\n",
    "    b = c"
   ]
  },
  {
   "cell_type": "markdown",
   "id": "5779b93f",
   "metadata": {},
   "source": [
    "**15. Write a Python program to check if a number is an Armstrong number.**"
   ]
  },
  {
   "cell_type": "code",
   "execution_count": 27,
   "id": "603b762e",
   "metadata": {},
   "outputs": [
    {
     "name": "stdout",
     "output_type": "stream",
     "text": [
      "Enter a number: 153\n",
      "Armstrong\n"
     ]
    }
   ],
   "source": [
    "n = int(input(\"Enter a number: \"))\n",
    "sum = 0\n",
    "temp = n\n",
    "while temp > 0:\n",
    "    rem = temp % 10\n",
    "    sum += rem*rem*rem\n",
    "    temp = temp//10\n",
    "if sum == n:\n",
    "    print(\"Armstrong\")\n",
    "else:\n",
    "    print(\"Not Armstrong\")"
   ]
  },
  {
   "cell_type": "markdown",
   "id": "9a50b532",
   "metadata": {},
   "source": [
    "**16. Write a Python program to find the sum of natural numbers.**"
   ]
  },
  {
   "cell_type": "code",
   "execution_count": 29,
   "id": "2258f537",
   "metadata": {},
   "outputs": [
    {
     "name": "stdout",
     "output_type": "stream",
     "text": [
      "Enter a range: 10\n",
      "Sum:  55.0\n"
     ]
    }
   ],
   "source": [
    "n = int(input(\"Enter a range: \"))\n",
    "sum = n*(n+1)/2\n",
    "print(\"Sum: \",sum)"
   ]
  },
  {
   "cell_type": "markdown",
   "id": "56ad3b2d",
   "metadata": {},
   "source": [
    "**17. Write a Python program to find the sum of digits of a number**"
   ]
  },
  {
   "cell_type": "code",
   "execution_count": 1,
   "id": "e8a4d261",
   "metadata": {},
   "outputs": [
    {
     "name": "stdout",
     "output_type": "stream",
     "text": [
      "Enter a number: 572\n",
      "Sum:  14\n"
     ]
    }
   ],
   "source": [
    "n = int(input(\"Enter a number: \"))\n",
    "sum = 0\n",
    "temp = n\n",
    "while temp > 0:\n",
    "    rem = temp % 10\n",
    "    sum += rem\n",
    "    temp = temp//10\n",
    "    \n",
    "print(\"Sum: \",sum)"
   ]
  },
  {
   "cell_type": "markdown",
   "id": "a6b74a9d",
   "metadata": {},
   "source": [
    "**18. Write a Python program to reverse a number.**"
   ]
  },
  {
   "cell_type": "code",
   "execution_count": 5,
   "id": "160a188a",
   "metadata": {},
   "outputs": [
    {
     "name": "stdout",
     "output_type": "stream",
     "text": [
      "Enter a number: 678\n",
      "876\n"
     ]
    }
   ],
   "source": [
    "n = input(\"Enter a number: \")\n",
    "rev = \"\".join(reversed(n))\n",
    "print(rev)"
   ]
  },
  {
   "cell_type": "markdown",
   "id": "a1380eaa",
   "metadata": {},
   "source": [
    "**19. Write a Python program to convert decimal to binary, octal and hexadecimal**"
   ]
  },
  {
   "cell_type": "code",
   "execution_count": 12,
   "id": "65d7d00d",
   "metadata": {},
   "outputs": [
    {
     "name": "stdout",
     "output_type": "stream",
     "text": [
      "Enter a number: 108\n",
      "Binary:  1101100\n",
      "Octal:  154\n",
      "Hexadecimal:  6c\n"
     ]
    }
   ],
   "source": [
    "n = int(input(\"Enter a number: \"))\n",
    "print(\"Binary: \",format(n, 'b'))\n",
    "print(\"Octal: \",format(n, 'o'))\n",
    "print(\"Hexadecimal: \",format(n, 'x'))"
   ]
  },
  {
   "cell_type": "markdown",
   "id": "a4968a85",
   "metadata": {},
   "source": [
    "**20. Write a Python program to find HCF or GCD of two numbers**"
   ]
  },
  {
   "cell_type": "code",
   "execution_count": 16,
   "id": "6179cb16",
   "metadata": {},
   "outputs": [
    {
     "name": "stdout",
     "output_type": "stream",
     "text": [
      "Enter a number: 15\n",
      "Enter a number: 25\n",
      "GCD:  5\n"
     ]
    }
   ],
   "source": [
    "import math\n",
    "\n",
    "a = int(input(\"Enter a number: \"))\n",
    "b = int(input(\"Enter a number: \"))\n",
    "\n",
    "print(\"GCD: \",math.gcd(a,b))"
   ]
  },
  {
   "cell_type": "markdown",
   "id": "f8724155",
   "metadata": {},
   "source": [
    "**21. Write a Python program to find LCM of two numbers**"
   ]
  },
  {
   "cell_type": "code",
   "execution_count": 17,
   "id": "52e726d3",
   "metadata": {},
   "outputs": [
    {
     "name": "stdout",
     "output_type": "stream",
     "text": [
      "Enter a number: 5\n",
      "Enter a number: 7\n",
      "LCM:  35\n"
     ]
    }
   ],
   "source": [
    "import math\n",
    "\n",
    "a = int(input(\"Enter a number: \"))\n",
    "b = int(input(\"Enter a number: \"))\n",
    "\n",
    "print(\"LCM: \",math.lcm(a,b))"
   ]
  },
  {
   "cell_type": "markdown",
   "id": "80021c95",
   "metadata": {},
   "source": [
    "**22. Write a Python program to count the number of each vowel in a string**"
   ]
  },
  {
   "cell_type": "code",
   "execution_count": 19,
   "id": "d45aa5cc",
   "metadata": {},
   "outputs": [
    {
     "name": "stdout",
     "output_type": "stream",
     "text": [
      "Enter a string: AlphaNumeric\n",
      "Total Vowels:  5\n"
     ]
    }
   ],
   "source": [
    "vowels = \"aeiouAEIOU\"\n",
    "s = input(\"Enter a string: \")\n",
    "count = 0\n",
    "for i in s:\n",
    "    if i in vowels:\n",
    "        count+=1\n",
    "print(\"Total Vowels: \",count)"
   ]
  },
  {
   "cell_type": "markdown",
   "id": "fd19b085",
   "metadata": {},
   "source": [
    "**23. Write a Python program to remove punctuation from a string.**"
   ]
  },
  {
   "cell_type": "code",
   "execution_count": 20,
   "id": "66f4d4f8",
   "metadata": {},
   "outputs": [
    {
     "name": "stdout",
     "output_type": "stream",
     "text": [
      "Enter a string: Hi,sir!\n",
      "Original string: Hi,sir!\n",
      "String without punctuation: Hisir\n"
     ]
    }
   ],
   "source": [
    "def remove_punctuation(input_string):\n",
    "    return ''.join(char for char in input_string if char.isalnum() or char.isspace())\n",
    "\n",
    "# Example usage\n",
    "input_string = input(\"Enter a string: \")\n",
    "clean_string = remove_punctuation(input_string)\n",
    "\n",
    "print(f\"Original string: {input_string}\")\n",
    "print(f\"String without punctuation: {clean_string}\")"
   ]
  },
  {
   "cell_type": "markdown",
   "id": "b5e07b02",
   "metadata": {},
   "source": [
    "**24. Write a Python program to sort a list of numbers in ascending order.**"
   ]
  },
  {
   "cell_type": "code",
   "execution_count": 24,
   "id": "f4169a67",
   "metadata": {},
   "outputs": [
    {
     "name": "stdout",
     "output_type": "stream",
     "text": [
      "[5, 17, 23, 36, 56, 78]\n"
     ]
    }
   ],
   "source": [
    "num = [56,78,23,17,5,36]\n",
    "print(sorted(num))"
   ]
  },
  {
   "cell_type": "markdown",
   "id": "6f909c16",
   "metadata": {},
   "source": [
    "**25. Write a Python program to merge two lists and sort it.**"
   ]
  },
  {
   "cell_type": "code",
   "execution_count": 26,
   "id": "3dea5dce",
   "metadata": {},
   "outputs": [
    {
     "name": "stdout",
     "output_type": "stream",
     "text": [
      "[1, 2, 3, 4, 5, 6, 7, 8, 9, 10]\n"
     ]
    }
   ],
   "source": [
    "list1 = [1,3,5,7,9]\n",
    "list2 = [2,4,6,8,10]\n",
    "\n",
    "print(sorted(list1+list2))"
   ]
  }
 ],
 "metadata": {
  "kernelspec": {
   "display_name": "Python 3 (ipykernel)",
   "language": "python",
   "name": "python3"
  },
  "language_info": {
   "codemirror_mode": {
    "name": "ipython",
    "version": 3
   },
   "file_extension": ".py",
   "mimetype": "text/x-python",
   "name": "python",
   "nbconvert_exporter": "python",
   "pygments_lexer": "ipython3",
   "version": "3.11.5"
  }
 },
 "nbformat": 4,
 "nbformat_minor": 5
}
